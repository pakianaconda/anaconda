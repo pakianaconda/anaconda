{
  "nbformat": 4,
  "nbformat_minor": 0,
  "metadata": {
    "colab": {
      "provenance": [],
      "toc_visible": true,
      "include_colab_link": true
    },
    "kernelspec": {
      "name": "python3",
      "display_name": "Python 3"
    }
  },
  "cells": [
    {
      "cell_type": "markdown",
      "metadata": {
        "id": "view-in-github",
        "colab_type": "text"
      },
      "source": [
        "<a href=\"https://colab.research.google.com/github/pakianaconda/anaconda/blob/master/Prediction%20of%20full%20load%20electrical%20power%20output%20by%20ANN.ipynb\" target=\"_parent\"><img src=\"https://colab.research.google.com/assets/colab-badge.svg\" alt=\"Open In Colab\"/></a>"
      ]
    },
    {
      "cell_type": "markdown",
      "metadata": {
        "id": "3cbb7fRy-eyr"
      },
      "source": [
        "# Prediction of full load electrical power output of a base load operated combined cycle power plant using machine learning methods(ANN)\n",
        "\n",
        "##### Attribute Information:\n",
        "\n",
        "##### Features consist of hourly average ambient variables\n",
        "##### - Temperature (T) in the range 1.81°C and 37.11°C,\n",
        "##### - Ambient Pressure (AP) in the range 992.89-1033.30 milibar,\n",
        "##### - Relative Humidity (RH) in the range 25.56% to 100.16%\n",
        "##### - Exhaust Vacuum (V) in teh range 25.36-81.56 cm Hg\n",
        "##### - Net hourly electrical energy output (EP) 420.26-495.76 MW\n",
        "##### The averages are taken from various sensors located around the plant that  record the ambient variables every second. The variables are given without normalization"
      ]
    },
    {
      "cell_type": "code",
      "source": [],
      "metadata": {
        "id": "n3Tl5IIcqh9c"
      },
      "execution_count": null,
      "outputs": []
    },
    {
      "cell_type": "markdown",
      "metadata": {
        "id": "8sNDnxE2-pwE"
      },
      "source": [
        "### Importing the libraries"
      ]
    },
    {
      "cell_type": "code",
      "metadata": {
        "id": "lxChR1Rk-umf"
      },
      "source": [
        "import numpy as np\n",
        "import pandas as pd\n",
        "import tensorflow as tf"
      ],
      "execution_count": null,
      "outputs": []
    },
    {
      "cell_type": "code",
      "metadata": {
        "id": "uBTqR3nacj0e",
        "colab": {
          "base_uri": "https://localhost:8080/",
          "height": 36
        },
        "outputId": "ef4ba02b-6aa0-410e-f7f1-81e2945d8814"
      },
      "source": [
        "tf.__version__"
      ],
      "execution_count": null,
      "outputs": [
        {
          "output_type": "execute_result",
          "data": {
            "text/plain": [
              "'2.9.2'"
            ],
            "application/vnd.google.colaboratory.intrinsic+json": {
              "type": "string"
            }
          },
          "metadata": {},
          "execution_count": 2
        }
      ]
    },
    {
      "cell_type": "markdown",
      "metadata": {
        "id": "AG3FQEch-yuA"
      },
      "source": [
        "## Part 1 - Data Preprocessing"
      ]
    },
    {
      "cell_type": "markdown",
      "metadata": {
        "id": "-4zq8Mza_D9O"
      },
      "source": [
        "### Importing the dataset"
      ]
    },
    {
      "cell_type": "code",
      "metadata": {
        "id": "B9CV13Co_HHM"
      },
      "source": [
        "dataset = pd.read_excel('Folds5x2_pp.xlsx')\n",
        "X = dataset.iloc[:, :-1].values\n",
        "y = dataset.iloc[:, -1].values"
      ],
      "execution_count": null,
      "outputs": []
    },
    {
      "cell_type": "code",
      "source": [
        "dataset"
      ],
      "metadata": {
        "id": "YwWmBdo8k-b8",
        "outputId": "3f185798-ef4f-4a0b-be77-7e74489a030c",
        "colab": {
          "base_uri": "https://localhost:8080/",
          "height": 424
        }
      },
      "execution_count": null,
      "outputs": [
        {
          "output_type": "execute_result",
          "data": {
            "text/plain": [
              "         AT      V       AP     RH      PE\n",
              "0     14.96  41.76  1024.07  73.17  463.26\n",
              "1     25.18  62.96  1020.04  59.08  444.37\n",
              "2      5.11  39.40  1012.16  92.14  488.56\n",
              "3     20.86  57.32  1010.24  76.64  446.48\n",
              "4     10.82  37.50  1009.23  96.62  473.90\n",
              "...     ...    ...      ...    ...     ...\n",
              "9563  16.65  49.69  1014.01  91.00  460.03\n",
              "9564  13.19  39.18  1023.67  66.78  469.62\n",
              "9565  31.32  74.33  1012.92  36.48  429.57\n",
              "9566  24.48  69.45  1013.86  62.39  435.74\n",
              "9567  21.60  62.52  1017.23  67.87  453.28\n",
              "\n",
              "[9568 rows x 5 columns]"
            ],
            "text/html": [
              "\n",
              "  <div id=\"df-d3455ffc-c50f-483c-9c2d-703cb26a88ab\">\n",
              "    <div class=\"colab-df-container\">\n",
              "      <div>\n",
              "<style scoped>\n",
              "    .dataframe tbody tr th:only-of-type {\n",
              "        vertical-align: middle;\n",
              "    }\n",
              "\n",
              "    .dataframe tbody tr th {\n",
              "        vertical-align: top;\n",
              "    }\n",
              "\n",
              "    .dataframe thead th {\n",
              "        text-align: right;\n",
              "    }\n",
              "</style>\n",
              "<table border=\"1\" class=\"dataframe\">\n",
              "  <thead>\n",
              "    <tr style=\"text-align: right;\">\n",
              "      <th></th>\n",
              "      <th>AT</th>\n",
              "      <th>V</th>\n",
              "      <th>AP</th>\n",
              "      <th>RH</th>\n",
              "      <th>PE</th>\n",
              "    </tr>\n",
              "  </thead>\n",
              "  <tbody>\n",
              "    <tr>\n",
              "      <th>0</th>\n",
              "      <td>14.96</td>\n",
              "      <td>41.76</td>\n",
              "      <td>1024.07</td>\n",
              "      <td>73.17</td>\n",
              "      <td>463.26</td>\n",
              "    </tr>\n",
              "    <tr>\n",
              "      <th>1</th>\n",
              "      <td>25.18</td>\n",
              "      <td>62.96</td>\n",
              "      <td>1020.04</td>\n",
              "      <td>59.08</td>\n",
              "      <td>444.37</td>\n",
              "    </tr>\n",
              "    <tr>\n",
              "      <th>2</th>\n",
              "      <td>5.11</td>\n",
              "      <td>39.40</td>\n",
              "      <td>1012.16</td>\n",
              "      <td>92.14</td>\n",
              "      <td>488.56</td>\n",
              "    </tr>\n",
              "    <tr>\n",
              "      <th>3</th>\n",
              "      <td>20.86</td>\n",
              "      <td>57.32</td>\n",
              "      <td>1010.24</td>\n",
              "      <td>76.64</td>\n",
              "      <td>446.48</td>\n",
              "    </tr>\n",
              "    <tr>\n",
              "      <th>4</th>\n",
              "      <td>10.82</td>\n",
              "      <td>37.50</td>\n",
              "      <td>1009.23</td>\n",
              "      <td>96.62</td>\n",
              "      <td>473.90</td>\n",
              "    </tr>\n",
              "    <tr>\n",
              "      <th>...</th>\n",
              "      <td>...</td>\n",
              "      <td>...</td>\n",
              "      <td>...</td>\n",
              "      <td>...</td>\n",
              "      <td>...</td>\n",
              "    </tr>\n",
              "    <tr>\n",
              "      <th>9563</th>\n",
              "      <td>16.65</td>\n",
              "      <td>49.69</td>\n",
              "      <td>1014.01</td>\n",
              "      <td>91.00</td>\n",
              "      <td>460.03</td>\n",
              "    </tr>\n",
              "    <tr>\n",
              "      <th>9564</th>\n",
              "      <td>13.19</td>\n",
              "      <td>39.18</td>\n",
              "      <td>1023.67</td>\n",
              "      <td>66.78</td>\n",
              "      <td>469.62</td>\n",
              "    </tr>\n",
              "    <tr>\n",
              "      <th>9565</th>\n",
              "      <td>31.32</td>\n",
              "      <td>74.33</td>\n",
              "      <td>1012.92</td>\n",
              "      <td>36.48</td>\n",
              "      <td>429.57</td>\n",
              "    </tr>\n",
              "    <tr>\n",
              "      <th>9566</th>\n",
              "      <td>24.48</td>\n",
              "      <td>69.45</td>\n",
              "      <td>1013.86</td>\n",
              "      <td>62.39</td>\n",
              "      <td>435.74</td>\n",
              "    </tr>\n",
              "    <tr>\n",
              "      <th>9567</th>\n",
              "      <td>21.60</td>\n",
              "      <td>62.52</td>\n",
              "      <td>1017.23</td>\n",
              "      <td>67.87</td>\n",
              "      <td>453.28</td>\n",
              "    </tr>\n",
              "  </tbody>\n",
              "</table>\n",
              "<p>9568 rows × 5 columns</p>\n",
              "</div>\n",
              "      <button class=\"colab-df-convert\" onclick=\"convertToInteractive('df-d3455ffc-c50f-483c-9c2d-703cb26a88ab')\"\n",
              "              title=\"Convert this dataframe to an interactive table.\"\n",
              "              style=\"display:none;\">\n",
              "        \n",
              "  <svg xmlns=\"http://www.w3.org/2000/svg\" height=\"24px\"viewBox=\"0 0 24 24\"\n",
              "       width=\"24px\">\n",
              "    <path d=\"M0 0h24v24H0V0z\" fill=\"none\"/>\n",
              "    <path d=\"M18.56 5.44l.94 2.06.94-2.06 2.06-.94-2.06-.94-.94-2.06-.94 2.06-2.06.94zm-11 1L8.5 8.5l.94-2.06 2.06-.94-2.06-.94L8.5 2.5l-.94 2.06-2.06.94zm10 10l.94 2.06.94-2.06 2.06-.94-2.06-.94-.94-2.06-.94 2.06-2.06.94z\"/><path d=\"M17.41 7.96l-1.37-1.37c-.4-.4-.92-.59-1.43-.59-.52 0-1.04.2-1.43.59L10.3 9.45l-7.72 7.72c-.78.78-.78 2.05 0 2.83L4 21.41c.39.39.9.59 1.41.59.51 0 1.02-.2 1.41-.59l7.78-7.78 2.81-2.81c.8-.78.8-2.07 0-2.86zM5.41 20L4 18.59l7.72-7.72 1.47 1.35L5.41 20z\"/>\n",
              "  </svg>\n",
              "      </button>\n",
              "      \n",
              "  <style>\n",
              "    .colab-df-container {\n",
              "      display:flex;\n",
              "      flex-wrap:wrap;\n",
              "      gap: 12px;\n",
              "    }\n",
              "\n",
              "    .colab-df-convert {\n",
              "      background-color: #E8F0FE;\n",
              "      border: none;\n",
              "      border-radius: 50%;\n",
              "      cursor: pointer;\n",
              "      display: none;\n",
              "      fill: #1967D2;\n",
              "      height: 32px;\n",
              "      padding: 0 0 0 0;\n",
              "      width: 32px;\n",
              "    }\n",
              "\n",
              "    .colab-df-convert:hover {\n",
              "      background-color: #E2EBFA;\n",
              "      box-shadow: 0px 1px 2px rgba(60, 64, 67, 0.3), 0px 1px 3px 1px rgba(60, 64, 67, 0.15);\n",
              "      fill: #174EA6;\n",
              "    }\n",
              "\n",
              "    [theme=dark] .colab-df-convert {\n",
              "      background-color: #3B4455;\n",
              "      fill: #D2E3FC;\n",
              "    }\n",
              "\n",
              "    [theme=dark] .colab-df-convert:hover {\n",
              "      background-color: #434B5C;\n",
              "      box-shadow: 0px 1px 3px 1px rgba(0, 0, 0, 0.15);\n",
              "      filter: drop-shadow(0px 1px 2px rgba(0, 0, 0, 0.3));\n",
              "      fill: #FFFFFF;\n",
              "    }\n",
              "  </style>\n",
              "\n",
              "      <script>\n",
              "        const buttonEl =\n",
              "          document.querySelector('#df-d3455ffc-c50f-483c-9c2d-703cb26a88ab button.colab-df-convert');\n",
              "        buttonEl.style.display =\n",
              "          google.colab.kernel.accessAllowed ? 'block' : 'none';\n",
              "\n",
              "        async function convertToInteractive(key) {\n",
              "          const element = document.querySelector('#df-d3455ffc-c50f-483c-9c2d-703cb26a88ab');\n",
              "          const dataTable =\n",
              "            await google.colab.kernel.invokeFunction('convertToInteractive',\n",
              "                                                     [key], {});\n",
              "          if (!dataTable) return;\n",
              "\n",
              "          const docLinkHtml = 'Like what you see? Visit the ' +\n",
              "            '<a target=\"_blank\" href=https://colab.research.google.com/notebooks/data_table.ipynb>data table notebook</a>'\n",
              "            + ' to learn more about interactive tables.';\n",
              "          element.innerHTML = '';\n",
              "          dataTable['output_type'] = 'display_data';\n",
              "          await google.colab.output.renderOutput(dataTable, element);\n",
              "          const docLink = document.createElement('div');\n",
              "          docLink.innerHTML = docLinkHtml;\n",
              "          element.appendChild(docLink);\n",
              "        }\n",
              "      </script>\n",
              "    </div>\n",
              "  </div>\n",
              "  "
            ]
          },
          "metadata": {},
          "execution_count": 4
        }
      ]
    },
    {
      "cell_type": "code",
      "source": [
        "X"
      ],
      "metadata": {
        "id": "tIBazM9vrjOp",
        "outputId": "da63f921-7b91-4a25-d81d-6564c446bb8d",
        "colab": {
          "base_uri": "https://localhost:8080/"
        }
      },
      "execution_count": null,
      "outputs": [
        {
          "output_type": "execute_result",
          "data": {
            "text/plain": [
              "array([[  14.96,   41.76, 1024.07,   73.17],\n",
              "       [  25.18,   62.96, 1020.04,   59.08],\n",
              "       [   5.11,   39.4 , 1012.16,   92.14],\n",
              "       ...,\n",
              "       [  31.32,   74.33, 1012.92,   36.48],\n",
              "       [  24.48,   69.45, 1013.86,   62.39],\n",
              "       [  21.6 ,   62.52, 1017.23,   67.87]])"
            ]
          },
          "metadata": {},
          "execution_count": 8
        }
      ]
    },
    {
      "cell_type": "code",
      "source": [
        "y"
      ],
      "metadata": {
        "id": "bz_jmM8BrjrI",
        "outputId": "5862da5b-3cfe-46ef-fc8c-a8c112abe41e",
        "colab": {
          "base_uri": "https://localhost:8080/"
        }
      },
      "execution_count": null,
      "outputs": [
        {
          "output_type": "execute_result",
          "data": {
            "text/plain": [
              "array([463.26, 444.37, 488.56, ..., 429.57, 435.74, 453.28])"
            ]
          },
          "metadata": {},
          "execution_count": 9
        }
      ]
    },
    {
      "cell_type": "markdown",
      "metadata": {
        "id": "VC6omXel_Up0"
      },
      "source": [
        "### Splitting the dataset into the Training set and Test set"
      ]
    },
    {
      "cell_type": "code",
      "metadata": {
        "id": "L5edeb2r_agx"
      },
      "source": [
        "from sklearn.model_selection import train_test_split\n",
        "X_train, X_test, y_train, y_test = train_test_split(X, y, test_size = 0.15, random_state = 0)"
      ],
      "execution_count": null,
      "outputs": []
    },
    {
      "cell_type": "markdown",
      "metadata": {
        "id": "_mSLlAT9_eyI"
      },
      "source": [
        "## Part 2 - Building the ANN"
      ]
    },
    {
      "cell_type": "markdown",
      "metadata": {
        "id": "CsBULd_f_wLY"
      },
      "source": [
        "### Initializing the ANN"
      ]
    },
    {
      "cell_type": "code",
      "metadata": {
        "id": "J6Hd97Ls__Nz"
      },
      "source": [
        "# We have to introduce it as a sequence of layer.\n",
        "# So the way to do this is by creating an object of the sequential class by tensor flow.\n",
        "# So as you understand tensor flow is like a deep learning library which allows you to build complex neural networks \n",
        "# and train them with tools like optimizer is or lost function or drop out tools.\n",
        "\n",
        "# One of these classes is actually the sequential class which will exactly create an artificial new network initialized as a sequence of layers.\n",
        "\n",
        "ann = tf.keras.models.Sequential()"
      ],
      "execution_count": null,
      "outputs": []
    },
    {
      "cell_type": "markdown",
      "metadata": {
        "id": "iitAFJS_ABUn"
      },
      "source": [
        "### Adding the input layer and the first hidden layer"
      ]
    },
    {
      "cell_type": "code",
      "metadata": {
        "id": "ksO_Vv40AHix"
      },
      "source": [
        "# why is it call a dense class.\n",
        "# 'Dense class' stands for actually the connection between the input layer and the first hidden layer.\n",
        "# Because indeed as we can clearly see in this graphic well there is a full connection between the input -\n",
        "# layer here and the first hidden layer meaning that all the neurons which are here the features are fully connected to \n",
        "# all the hidden neurons here of the first hidden layer.\n",
        "# that's exactly what this dense class means. You can see the high density of the connections here.\n",
        "\n",
        "ann.add(tf.keras.layers.Dense(units=6, activation='relu'))"
      ],
      "execution_count": null,
      "outputs": []
    },
    {
      "cell_type": "markdown",
      "metadata": {
        "id": "-lb4kK_wAKbs"
      },
      "source": [
        "### Adding the second hidden layer"
      ]
    },
    {
      "cell_type": "code",
      "metadata": {
        "id": "c2357OqEAQOQ"
      },
      "source": [
        "ann.add(tf.keras.layers.Dense(units=6, activation='relu'))"
      ],
      "execution_count": null,
      "outputs": []
    },
    {
      "cell_type": "markdown",
      "metadata": {
        "id": "jwMOmKb3AdBY"
      },
      "source": [
        "### Adding the output layer"
      ]
    },
    {
      "cell_type": "code",
      "source": [
        "# If you're doing classification with only two categories to predict in the end you know either yes or no, or, 0 or 1.\n",
        "# Well you have to choose a sigmoid activation function if you're doing classification with more than two categories \n",
        "# or classes to predict in the end while you should use a soft-Max activation function.\n",
        "\n",
        "# And if you're doing regression meaning that you have to predict a continuous real number as a final output \n",
        "# then you should choose no activation function."
      ],
      "metadata": {
        "id": "C0B0H8Y11tzA"
      },
      "execution_count": null,
      "outputs": []
    },
    {
      "cell_type": "code",
      "metadata": {
        "id": "YFATpzsUAkLL"
      },
      "source": [
        "ann.add(tf.keras.layers.Dense(units=1))"
      ],
      "execution_count": null,
      "outputs": []
    },
    {
      "cell_type": "markdown",
      "metadata": {
        "id": "fq7e4fF6A1yy"
      },
      "source": [
        "## Part 3 - Training the ANN"
      ]
    },
    {
      "cell_type": "markdown",
      "metadata": {
        "id": "qDeylAs2An25"
      },
      "source": [
        "### Compiling the ANN"
      ]
    },
    {
      "cell_type": "code",
      "metadata": {
        "id": "pesgbWlCAtB4"
      },
      "source": [
        "# First here we'll compile the ANZ meaning that we will connect it to an optimizer which will take care of reducing the loss \n",
        "# during backward propagation stochastic gradient descent \n",
        "\n",
        "\n",
        "# What is an optimizer and a lost function?\n",
        "\n",
        "# The optimizer is basically the tool with which you're going to perform stochastic gradient descent.\n",
        "\n",
        "\n",
        "\n",
        "# What is the stochastic gradient descent?\n",
        "\n",
        "# That's a technique that consists of updating the weights of each of the neurons in the hidden layers \n",
        "# so as to reduce the loss over the epochs.In other words, what will happen is that first forward propagation will happen.\n",
        "# You know, the features will be entered into the neural network.\n",
        "# The signal will be forward, propagated up to the energy output.\n",
        "# This energy output, meaning the prediction will be compared to the real energy output of the training set.You know, we have the real results.\n",
        "# This will incur a loss, which will be exactly the squared difference between the predicted energy output and the real energy output.\n",
        "# And usually the predictions come into batches so that we actually compute the sum of the squared differences between the predicted energy \n",
        "# output and the real energy outputs in the batch. So basically, you get a loss and then backward propagation is applied, meaning that this\n",
        "# loss is back propagated into the neural network and stochastic gradient descent is applied with this optimizer to reduce the loss, \n",
        "#So basically the optimizer will update all the weights inside this new network in order to reduce this load. That was \n",
        "# backpropagated into the normal network.\n",
        "\n",
        "ann.compile(optimizer = 'adam', loss = 'mean_squared_error')"
      ],
      "execution_count": null,
      "outputs": []
    },
    {
      "cell_type": "markdown",
      "metadata": {
        "id": "YjVuiybYOo7r"
      },
      "source": [
        "### Training the ANN model on the Training set"
      ]
    },
    {
      "cell_type": "code",
      "metadata": {
        "id": "c_vV-tiiA5zn",
        "colab": {
          "base_uri": "https://localhost:8080/"
        },
        "outputId": "fa0a6bc1-40b8-4c7a-8639-b3c6de09b4c8"
      },
      "source": [
        "ann.fit(X_train, y_train, batch_size = 32, epochs = 72)"
      ],
      "execution_count": null,
      "outputs": [
        {
          "output_type": "stream",
          "name": "stdout",
          "text": [
            "Epoch 1/72\n",
            "255/255 [==============================] - 0s 2ms/step - loss: 26.2519\n",
            "Epoch 2/72\n",
            "255/255 [==============================] - 0s 2ms/step - loss: 26.1109\n",
            "Epoch 3/72\n",
            "255/255 [==============================] - 0s 2ms/step - loss: 26.3820\n",
            "Epoch 4/72\n",
            "255/255 [==============================] - 0s 2ms/step - loss: 26.2031\n",
            "Epoch 5/72\n",
            "255/255 [==============================] - 0s 2ms/step - loss: 26.2234\n",
            "Epoch 6/72\n",
            "255/255 [==============================] - 0s 2ms/step - loss: 26.0652\n",
            "Epoch 7/72\n",
            "255/255 [==============================] - 0s 2ms/step - loss: 26.7477\n",
            "Epoch 8/72\n",
            "255/255 [==============================] - 0s 2ms/step - loss: 26.3494\n",
            "Epoch 9/72\n",
            "255/255 [==============================] - 0s 2ms/step - loss: 26.2913\n",
            "Epoch 10/72\n",
            "255/255 [==============================] - 0s 2ms/step - loss: 26.4394\n",
            "Epoch 11/72\n",
            "255/255 [==============================] - 0s 2ms/step - loss: 26.1463\n",
            "Epoch 12/72\n",
            "255/255 [==============================] - 0s 2ms/step - loss: 26.5955\n",
            "Epoch 13/72\n",
            "255/255 [==============================] - 0s 2ms/step - loss: 26.3184\n",
            "Epoch 14/72\n",
            "255/255 [==============================] - 0s 2ms/step - loss: 26.1082\n",
            "Epoch 15/72\n",
            "255/255 [==============================] - 0s 2ms/step - loss: 26.3727\n",
            "Epoch 16/72\n",
            "255/255 [==============================] - 0s 2ms/step - loss: 26.4791\n",
            "Epoch 17/72\n",
            "255/255 [==============================] - 0s 2ms/step - loss: 26.1758\n",
            "Epoch 18/72\n",
            "255/255 [==============================] - 0s 2ms/step - loss: 26.0331\n",
            "Epoch 19/72\n",
            "255/255 [==============================] - 0s 2ms/step - loss: 26.5673\n",
            "Epoch 20/72\n",
            "255/255 [==============================] - 0s 2ms/step - loss: 26.1306\n",
            "Epoch 21/72\n",
            "255/255 [==============================] - 0s 2ms/step - loss: 26.6222\n",
            "Epoch 22/72\n",
            "255/255 [==============================] - 0s 2ms/step - loss: 26.4166\n",
            "Epoch 23/72\n",
            "255/255 [==============================] - 0s 2ms/step - loss: 26.3568\n",
            "Epoch 24/72\n",
            "255/255 [==============================] - 0s 2ms/step - loss: 26.5074\n",
            "Epoch 25/72\n",
            "255/255 [==============================] - 0s 2ms/step - loss: 26.4725\n",
            "Epoch 26/72\n",
            "255/255 [==============================] - 0s 2ms/step - loss: 26.6759\n",
            "Epoch 27/72\n",
            "255/255 [==============================] - 0s 2ms/step - loss: 26.8149\n",
            "Epoch 28/72\n",
            "255/255 [==============================] - 0s 2ms/step - loss: 26.2391\n",
            "Epoch 29/72\n",
            "255/255 [==============================] - 0s 2ms/step - loss: 26.2804\n",
            "Epoch 30/72\n",
            "255/255 [==============================] - 0s 2ms/step - loss: 26.1404\n",
            "Epoch 31/72\n",
            "255/255 [==============================] - 0s 2ms/step - loss: 26.1618\n",
            "Epoch 32/72\n",
            "255/255 [==============================] - 0s 2ms/step - loss: 26.3510\n",
            "Epoch 33/72\n",
            "255/255 [==============================] - 0s 2ms/step - loss: 26.4573\n",
            "Epoch 34/72\n",
            "255/255 [==============================] - 0s 2ms/step - loss: 26.3590\n",
            "Epoch 35/72\n",
            "255/255 [==============================] - 0s 2ms/step - loss: 26.4868\n",
            "Epoch 36/72\n",
            "255/255 [==============================] - 0s 2ms/step - loss: 26.2349\n",
            "Epoch 37/72\n",
            "255/255 [==============================] - 0s 2ms/step - loss: 26.1040\n",
            "Epoch 38/72\n",
            "255/255 [==============================] - 0s 2ms/step - loss: 26.3530\n",
            "Epoch 39/72\n",
            "255/255 [==============================] - 0s 2ms/step - loss: 26.3251\n",
            "Epoch 40/72\n",
            "255/255 [==============================] - 0s 2ms/step - loss: 26.6826\n",
            "Epoch 41/72\n",
            "255/255 [==============================] - 0s 2ms/step - loss: 26.1111\n",
            "Epoch 42/72\n",
            "255/255 [==============================] - 0s 2ms/step - loss: 26.7141\n",
            "Epoch 43/72\n",
            "255/255 [==============================] - 0s 2ms/step - loss: 26.4498\n",
            "Epoch 44/72\n",
            "255/255 [==============================] - 0s 2ms/step - loss: 26.2483\n",
            "Epoch 45/72\n",
            "255/255 [==============================] - 0s 2ms/step - loss: 26.3251\n",
            "Epoch 46/72\n",
            "255/255 [==============================] - 0s 2ms/step - loss: 26.4383\n",
            "Epoch 47/72\n",
            "255/255 [==============================] - 0s 2ms/step - loss: 26.3900\n",
            "Epoch 48/72\n",
            "255/255 [==============================] - 0s 2ms/step - loss: 26.1792\n",
            "Epoch 49/72\n",
            "255/255 [==============================] - 0s 2ms/step - loss: 26.2342\n",
            "Epoch 50/72\n",
            "255/255 [==============================] - 0s 2ms/step - loss: 26.5155\n",
            "Epoch 51/72\n",
            "255/255 [==============================] - 0s 2ms/step - loss: 26.7096\n",
            "Epoch 52/72\n",
            "255/255 [==============================] - 0s 2ms/step - loss: 26.3292\n",
            "Epoch 53/72\n",
            "255/255 [==============================] - 0s 2ms/step - loss: 26.4914\n",
            "Epoch 54/72\n",
            "255/255 [==============================] - 0s 2ms/step - loss: 27.0262\n",
            "Epoch 55/72\n",
            "255/255 [==============================] - 0s 2ms/step - loss: 26.2135\n",
            "Epoch 56/72\n",
            "255/255 [==============================] - 0s 2ms/step - loss: 26.1089\n",
            "Epoch 57/72\n",
            "255/255 [==============================] - 0s 2ms/step - loss: 26.2547\n",
            "Epoch 58/72\n",
            "255/255 [==============================] - 0s 2ms/step - loss: 26.4054\n",
            "Epoch 59/72\n",
            "255/255 [==============================] - 0s 2ms/step - loss: 26.3903\n",
            "Epoch 60/72\n",
            "255/255 [==============================] - 0s 2ms/step - loss: 26.4717\n",
            "Epoch 61/72\n",
            "255/255 [==============================] - 0s 2ms/step - loss: 26.1434\n",
            "Epoch 62/72\n",
            "255/255 [==============================] - 0s 2ms/step - loss: 26.6002\n",
            "Epoch 63/72\n",
            "255/255 [==============================] - 0s 2ms/step - loss: 26.3773\n",
            "Epoch 64/72\n",
            "255/255 [==============================] - 0s 2ms/step - loss: 26.1891\n",
            "Epoch 65/72\n",
            "255/255 [==============================] - 0s 2ms/step - loss: 26.1531\n",
            "Epoch 66/72\n",
            "255/255 [==============================] - 0s 2ms/step - loss: 26.3044\n",
            "Epoch 67/72\n",
            "255/255 [==============================] - 0s 2ms/step - loss: 26.3681\n",
            "Epoch 68/72\n",
            "255/255 [==============================] - 0s 2ms/step - loss: 26.1499\n",
            "Epoch 69/72\n",
            "255/255 [==============================] - 0s 2ms/step - loss: 26.2189\n",
            "Epoch 70/72\n",
            "255/255 [==============================] - 0s 2ms/step - loss: 26.0699\n",
            "Epoch 71/72\n",
            "255/255 [==============================] - 0s 2ms/step - loss: 26.2528\n",
            "Epoch 72/72\n",
            "255/255 [==============================] - 0s 2ms/step - loss: 26.0931\n"
          ]
        },
        {
          "output_type": "execute_result",
          "data": {
            "text/plain": [
              "<keras.callbacks.History at 0x7fcba1c09310>"
            ]
          },
          "metadata": {},
          "execution_count": 18
        }
      ]
    },
    {
      "cell_type": "markdown",
      "metadata": {
        "id": "0H0zKKNEBLD5"
      },
      "source": [
        "### Predicting the results of the Test set"
      ]
    },
    {
      "cell_type": "code",
      "metadata": {
        "id": "IA0yApEmBG1X",
        "colab": {
          "base_uri": "https://localhost:8080/"
        },
        "outputId": "01c7d175-4409-4034-a233-ebdd1603faea"
      },
      "source": [
        "y_pred = ann.predict(X_test)\n",
        "np.set_printoptions(precision=2)\n",
        "print(np.concatenate((y_pred.reshape(len(y_pred),1), y_test.reshape(len(y_test),1)),1))"
      ],
      "execution_count": null,
      "outputs": [
        {
          "output_type": "stream",
          "name": "stdout",
          "text": [
            "45/45 [==============================] - 0s 1ms/step\n",
            "[[431.32 431.23]\n",
            " [462.3  460.01]\n",
            " [465.78 461.14]\n",
            " ...\n",
            " [444.45 445.6 ]\n",
            " [454.48 451.7 ]\n",
            " [458.8  460.45]]\n"
          ]
        }
      ]
    },
    {
      "cell_type": "code",
      "source": [],
      "metadata": {
        "id": "PER6Ihi08f8C"
      },
      "execution_count": null,
      "outputs": []
    }
  ]
}